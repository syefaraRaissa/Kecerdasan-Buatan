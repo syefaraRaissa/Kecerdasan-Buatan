{
 "cells": [
  {
   "cell_type": "code",
   "execution_count": 1,
   "id": "68eeaad2",
   "metadata": {},
   "outputs": [
    {
     "name": "stdout",
     "output_type": "stream",
     "text": [
      "masukkan awal : A\n",
      "Masukkan Akhir : B\n",
      "['A', 'B']\n"
     ]
    }
   ],
   "source": [
    "peta = {'A' : set (['B', 'H']),\n",
    "        'B' : set (['A', 'C', 'H']),\n",
    "        'C' : set (['B', 'D','E']),\n",
    "        'D' : set (['C', 'E','F', 'G','H']),\n",
    "        'E' : set (['C', 'D']),\n",
    "        'F' : set (['B', 'H']),\n",
    "        'G' : set (['F', 'D','H']),\n",
    "        'H' : set (['A', 'B','D', 'G']), }\n",
    "\n",
    "def bfs_lintasan_terpendek(peta,mulai, tujuan):\n",
    "    explored =[]\n",
    "    queue = [[mulai]]\n",
    "\n",
    "    if mulai == tujuan :\n",
    "        return \"Awal adalah Tujuan\"\n",
    "    \n",
    "    while queue :\n",
    "        jalur = queue.pop(0)\n",
    "        node = jalur[-1]\n",
    "\n",
    "        if node not in explored :\n",
    "            neighbours = peta[node]\n",
    "\n",
    "            for neighbour in neighbours :\n",
    "                jalur_baru = list(jalur)\n",
    "                jalur_baru.append(neighbour)\n",
    "                queue.append(jalur_baru)\n",
    "\n",
    "                if neighbour == tujuan:\n",
    "                    return jalur_baru\n",
    "                \n",
    "                explored.append(node)\n",
    "\n",
    "    return \"Mohon maaf node yang kalian pilih tidak ada\"\n",
    "\n",
    "mulai = input(\"masukkan awal : \")\n",
    "tujuan = input (\"Masukkan Akhir : \")\n",
    "\n",
    "print(bfs_lintasan_terpendek(peta,mulai, tujuan))"
   ]
  },
  {
   "cell_type": "code",
   "execution_count": 4,
   "id": "c99fc9ae",
   "metadata": {},
   "outputs": [
    {
     "name": "stdout",
     "output_type": "stream",
     "text": [
      "masukkan awal : A\n",
      "Masukkan Akhir : E\n",
      "['A', 'B', 'C', 'E']\n"
     ]
    }
   ],
   "source": [
    "peta = {'A' : set (['B', 'H']),\n",
    "        'B' : set (['A', 'C', 'H']),\n",
    "        'C' : set (['B', 'D','E']),\n",
    "        'D' : set (['C', 'E','F', 'G','H']),\n",
    "        'E' : set (['C', 'D']),\n",
    "        'F' : set (['B', 'H']),\n",
    "        'G' : set (['F', 'D','H']),\n",
    "        'H' : set (['A', 'B','D', 'G']), }\n",
    "\n",
    "def bfs_lintasan_terpendek(peta,mulai, tujuan):\n",
    "    explored =[]\n",
    "    queue = [[mulai]]\n",
    "\n",
    "    if mulai == tujuan :\n",
    "        return \"Awal adalah Tujuan\"\n",
    "    \n",
    "    while queue :\n",
    "        jalur = queue.pop(0)\n",
    "        node = jalur[-1]\n",
    "\n",
    "        if node not in explored :\n",
    "            neighbours = peta[node]\n",
    "\n",
    "            for neighbour in neighbours :\n",
    "                jalur_baru = list(jalur)\n",
    "                jalur_baru.append(neighbour)\n",
    "                queue.append(jalur_baru)\n",
    "\n",
    "                if neighbour == tujuan:\n",
    "                    return jalur_baru\n",
    "                \n",
    "                explored.append(node)\n",
    "\n",
    "    return \"Mohon maaf node yang kalian pilih tidak ada\"\n",
    "\n",
    "mulai = input(\"masukkan awal : \")\n",
    "tujuan = input (\"Masukkan Akhir : \")\n",
    "\n",
    "print(bfs_lintasan_terpendek(peta,mulai, tujuan))"
   ]
  },
  {
   "cell_type": "code",
   "execution_count": null,
   "id": "bb991355",
   "metadata": {},
   "outputs": [],
   "source": []
  }
 ],
 "metadata": {
  "kernelspec": {
   "display_name": "Python 3 (ipykernel)",
   "language": "python",
   "name": "python3"
  },
  "language_info": {
   "codemirror_mode": {
    "name": "ipython",
    "version": 3
   },
   "file_extension": ".py",
   "mimetype": "text/x-python",
   "name": "python",
   "nbconvert_exporter": "python",
   "pygments_lexer": "ipython3",
   "version": "3.9.13"
  }
 },
 "nbformat": 4,
 "nbformat_minor": 5
}
