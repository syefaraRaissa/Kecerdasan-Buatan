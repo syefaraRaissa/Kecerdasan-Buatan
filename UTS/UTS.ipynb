{
 "cells": [
  {
   "cell_type": "code",
   "execution_count": 1,
   "metadata": {},
   "outputs": [
    {
     "name": "stdout",
     "output_type": "stream",
     "text": [
      "AND Gate:\n",
      "[[0.0049207 ]\n",
      " [0.03296712]\n",
      " [0.03387035]\n",
      " [0.9599498 ]]\n",
      "OR Gate:\n",
      "[[0.04407476]\n",
      " [0.97580098]\n",
      " [0.97504403]\n",
      " [0.99368189]]\n",
      "XOR Gate:\n",
      "[[0.0590459 ]\n",
      " [0.94568676]\n",
      " [0.94566766]\n",
      " [0.05856367]]\n"
     ]
    }
   ],
   "source": [
    "import numpy as np\n",
    "\n",
    "# Fungsi aktivasi sigmoid\n",
    "def sigmoid(x):\n",
    "    return 1 / (1 + np.exp(-x))\n",
    "\n",
    "# Turunan dari fungsi sigmoid untuk backpropagation\n",
    "def sigmoid_derivative(x):\n",
    "    return x * (1 - x)\n",
    "\n",
    "# Kelas JST\n",
    "class NeuralNetwork:\n",
    "    def __init__(self, input_size, hidden_size, output_size):\n",
    "        # Inisialisasi bobot\n",
    "        self.input_size = input_size\n",
    "        self.hidden_size = hidden_size\n",
    "        self.output_size = output_size\n",
    "        self.weights1 = np.random.rand(self.input_size, self.hidden_size)\n",
    "        self.weights2 = np.random.rand(self.hidden_size, self.output_size)\n",
    "        self.bias1 = np.random.rand(self.hidden_size)\n",
    "        self.bias2 = np.random.rand(self.output_size)\n",
    "\n",
    "    def feedforward(self, X):\n",
    "        # Forward pass\n",
    "        self.hidden = sigmoid(np.dot(X, self.weights1) + self.bias1)\n",
    "        self.output = sigmoid(np.dot(self.hidden, self.weights2) + self.bias2)\n",
    "        return self.output\n",
    "\n",
    "    def backpropagation(self, X, y, learning_rate):\n",
    "        # Backward pass\n",
    "        output_error = y - self.output\n",
    "        output_delta = output_error * sigmoid_derivative(self.output)\n",
    "\n",
    "        hidden_error = np.dot(output_delta, self.weights2.T)\n",
    "        hidden_delta = hidden_error * sigmoid_derivative(self.hidden)\n",
    "\n",
    "        # Update bobot dan bias\n",
    "        self.weights2 += np.dot(self.hidden.T, output_delta) * learning_rate\n",
    "        self.weights1 += np.dot(X.T, hidden_delta) * learning_rate\n",
    "        self.bias2 += np.sum(output_delta, axis=0) * learning_rate\n",
    "        self.bias1 += np.sum(hidden_delta, axis=0) * learning_rate\n",
    "\n",
    "    def train(self, X, y, epochs, learning_rate):\n",
    "        for epoch in range(epochs):\n",
    "            self.feedforward(X)\n",
    "            self.backpropagation(X, y, learning_rate)\n",
    "\n",
    "# Data gerbang logika\n",
    "# AND gate\n",
    "X_and = np.array([[0, 0], [0, 1], [1, 0], [1, 1]])\n",
    "y_and = np.array([[0], [0], [0], [1]])\n",
    "\n",
    "# OR gate\n",
    "X_or = np.array([[0, 0], [0, 1], [1, 0], [1, 1]])\n",
    "y_or = np.array([[0], [1], [1], [1]])\n",
    "\n",
    "# XOR gate\n",
    "X_xor = np.array([[0, 0], [0, 1], [1, 0], [1, 1]])\n",
    "y_xor = np.array([[0], [1], [1], [0]])\n",
    "\n",
    "# Inisialisasi JST untuk gerbang logika\n",
    "nn_and = NeuralNetwork(input_size=2, hidden_size=2, output_size=1)\n",
    "nn_or = NeuralNetwork(input_size=2, hidden_size=2, output_size=1)\n",
    "nn_xor = NeuralNetwork(input_size=2, hidden_size=2, output_size=1)\n",
    "\n",
    "# Latih JST\n",
    "nn_and.train(X_and, y_and, epochs=10000, learning_rate=0.1)\n",
    "nn_or.train(X_or, y_or, epochs=10000, learning_rate=0.1)\n",
    "nn_xor.train(X_xor, y_xor, epochs=10000, learning_rate=0.1)\n",
    "\n",
    "# Test JST\n",
    "print(\"AND Gate:\")\n",
    "print(nn_and.feedforward(X_and))\n",
    "\n",
    "print(\"OR Gate:\")\n",
    "print(nn_or.feedforward(X_or))\n",
    "\n",
    "print(\"XOR Gate:\")\n",
    "print(nn_xor.feedforward(X_xor))\n"
   ]
  },
  {
   "cell_type": "code",
   "execution_count": 2,
   "metadata": {},
   "outputs": [
    {
     "name": "stdout",
     "output_type": "stream",
     "text": [
      "[1 2 3]\n"
     ]
    }
   ],
   "source": [
    "import numpy as np\n",
    "\n",
    "a = np.array([1, 2, 3])\n",
    "print(a)\n"
   ]
  }
 ],
 "metadata": {
  "kernelspec": {
   "display_name": "Python 3",
   "language": "python",
   "name": "python3"
  },
  "language_info": {
   "codemirror_mode": {
    "name": "ipython",
    "version": 3
   },
   "file_extension": ".py",
   "mimetype": "text/x-python",
   "name": "python",
   "nbconvert_exporter": "python",
   "pygments_lexer": "ipython3",
   "version": "3.11.9"
  }
 },
 "nbformat": 4,
 "nbformat_minor": 2
}
